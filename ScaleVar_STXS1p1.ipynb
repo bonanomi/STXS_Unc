{
 "cells": [
  {
   "cell_type": "code",
   "execution_count": 1,
   "metadata": {},
   "outputs": [],
   "source": [
    "import matplotlib.pyplot as plt\n",
    "import matplotlib.colors\n",
    "import numpy as np\n",
    "import pandas as pd\n",
    "import uproot"
   ]
  },
  {
   "cell_type": "code",
   "execution_count": 2,
   "metadata": {},
   "outputs": [],
   "source": [
    "url = 'https://gist.githubusercontent.com/bonanomi/d14780f7562cb2a22fdd753a9d4459d4/raw/b3c6d77505b90eb38a886c19a31725df8ceb908f/MyMPLStyle'\n",
    "plt.style.use(url)"
   ]
  },
  {
   "cell_type": "code",
   "execution_count": 3,
   "metadata": {},
   "outputs": [],
   "source": [
    "tree = 'Events'\n",
    "fname = '/eos/user/m/mbonanom/nanoAOD_ggH_ZZ_4L.root'\n",
    "branches = ['HTXS_stage_1_pTjet30', 'LHEScaleWeight']"
   ]
  },
  {
   "cell_type": "code",
   "execution_count": 4,
   "metadata": {},
   "outputs": [],
   "source": [
    "evt = uproot.open(fname)[tree]\n",
    "evts = evt.arrays(branches)"
   ]
  },
  {
   "cell_type": "code",
   "execution_count": 5,
   "metadata": {},
   "outputs": [],
   "source": [
    "binning = np.linspace(0, 500, 500)"
   ]
  },
  {
   "cell_type": "code",
   "execution_count": 6,
   "metadata": {},
   "outputs": [],
   "source": [
    "h_stxs = np.histogram(evts[b'HTXS_stage_1_pTjet30'], binning)"
   ]
  },
  {
   "cell_type": "code",
   "execution_count": 7,
   "metadata": {},
   "outputs": [],
   "source": [
    "d = {}\n",
    "for i in range(9):\n",
    "    d[i] = [j[i] for j in evts[b'LHEScaleWeight']]"
   ]
  },
  {
   "cell_type": "code",
   "execution_count": 8,
   "metadata": {},
   "outputs": [
    {
     "name": "stdout",
     "output_type": "stream",
     "text": [
      "CPU times: user 1.36 s, sys: 75.6 ms, total: 1.44 s\n",
      "Wall time: 1.79 s\n"
     ]
    }
   ],
   "source": [
    "%%time\n",
    "d_scales = {}\n",
    "for i in range(9):\n",
    "    d_scales[i] = np.histogram(evts[b'HTXS_stage_1_pTjet30'], binning, weights=d[i])"
   ]
  },
  {
   "cell_type": "code",
   "execution_count": 9,
   "metadata": {},
   "outputs": [],
   "source": [
    "int_nominal = [i for i in h_stxs[0] if i!=0]"
   ]
  },
  {
   "cell_type": "code",
   "execution_count": 10,
   "metadata": {},
   "outputs": [
    {
     "name": "stdout",
     "output_type": "stream",
     "text": [
      "CPU times: user 2.01 ms, sys: 0 ns, total: 2.01 ms\n",
      "Wall time: 2.02 ms\n"
     ]
    }
   ],
   "source": [
    "%%time\n",
    "int_scale = {}\n",
    "for i in range(9):\n",
    "    if (i==2) | (i==6):\n",
    "        continue\n",
    "    int_scale[i] = [j for j, k in zip(d_scales[i][0], h_stxs[0]) if k != 0]"
   ]
  },
  {
   "cell_type": "code",
   "execution_count": 11,
   "metadata": {},
   "outputs": [],
   "source": [
    "bins_c =  0.5*(h_stxs[1][1:]+h_stxs[1][:-1])"
   ]
  },
  {
   "cell_type": "code",
   "execution_count": 12,
   "metadata": {},
   "outputs": [],
   "source": [
    "stxs_bins = [round(j, 0) for i, j in zip(h_stxs[0], bins_c) if i!=0]"
   ]
  },
  {
   "cell_type": "code",
   "execution_count": 13,
   "metadata": {},
   "outputs": [
    {
     "name": "stdout",
     "output_type": "stream",
     "text": [
      "[100] => 91330 ::: 110057.84,  110848.18,  90558.30,  91330.00,  91908.27,  76681.57,  77171.75, \n",
      "\n",
      "[101] => 5272 ::: 6604.66,  6629.11,  5229.95,  5272.00,  5287.57,  4298.47,  4324.57, \n",
      "\n",
      "[102] => 7195 ::: 9232.27,  9164.41,  7213.32,  7195.00,  7148.55,  5799.34,  5781.28, \n",
      "\n",
      "[103] => 576176 ::: 662005.50,  684499.06,  555287.38,  576176.00,  593559.38,  491678.88,  507197.09, \n",
      "\n",
      "[104] => 129104 ::: 151716.94,  156209.69,  124921.25,  129104.00,  132425.06,  108626.19,  111578.88, \n",
      "\n",
      "[105] => 80884 ::: 98987.56,  100934.69,  79085.31,  80884.00,  82112.69,  66436.69,  67555.06, \n",
      "\n",
      "[106] => 13514 ::: 17999.88,  17805.38,  13646.19,  13514.00,  13316.75,  10600.06,  10456.56, \n",
      "\n",
      "[107] => 3302 ::: 4741.25,  4468.62,  3504.88,  3302.00,  3111.94,  2527.12,  2381.94, \n",
      "\n",
      "[108] => 20320 ::: 24245.88,  24896.62,  19729.56,  20320.00,  20771.62,  16938.69,  17341.19, \n",
      "\n",
      "[109] => 40197 ::: 49834.38,  50598.50,  39494.12,  40197.00,  40633.31,  32801.75,  33211.75, \n",
      "\n",
      "[110] => 20822 ::: 27611.88,  27262.75,  21053.56,  20822.00,  20498.44,  16424.50,  16193.62, \n",
      "\n",
      "[111] => 11684 ::: 16806.75,  15783.50,  12443.88,  11684.00,  10989.75,  8958.06,  8428.12, \n",
      "\n"
     ]
    }
   ],
   "source": [
    "for stxs, nom_int in zip(enumerate(stxs_bins), int_nominal):\n",
    "    k = stxs[0]; stxs_bin = stxs[1]\n",
    "    print('[{}] => {} :::'.format(int(stxs_bin), nom_int), end='')\n",
    "    for i in range(9):\n",
    "        if (i==2) | (i==6):\n",
    "            continue\n",
    "        print(' {0:.2f}, '.format(int_scale[i][k]), end='')\n",
    "    print('\\n')"
   ]
  },
  {
   "cell_type": "code",
   "execution_count": 14,
   "metadata": {},
   "outputs": [
    {
     "name": "stdout",
     "output_type": "stream",
     "text": [
      "[100] => 91330 ::: 20.51%,  21.37%,  -0.84%,  0.00%,  0.63%,  -16.04%,  -15.50%, \n",
      "\n",
      "[101] => 5272 ::: 25.28%,  25.74%,  -0.80%,  0.00%,  0.30%,  -18.47%,  -17.97%, \n",
      "\n",
      "[102] => 7195 ::: 28.32%,  27.37%,  0.25%,  0.00%,  -0.65%,  -19.40%,  -19.65%, \n",
      "\n",
      "[103] => 576176 ::: 14.90%,  18.80%,  -3.63%,  0.00%,  3.02%,  -14.67%,  -11.97%, \n",
      "\n",
      "[104] => 129104 ::: 17.52%,  21.00%,  -3.24%,  0.00%,  2.57%,  -15.86%,  -13.57%, \n",
      "\n",
      "[105] => 80884 ::: 22.38%,  24.79%,  -2.22%,  0.00%,  1.52%,  -17.86%,  -16.48%, \n",
      "\n",
      "[106] => 13514 ::: 33.19%,  31.76%,  0.98%,  0.00%,  -1.46%,  -21.56%,  -22.62%, \n",
      "\n",
      "[107] => 3302 ::: 43.59%,  35.33%,  6.14%,  0.00%,  -5.76%,  -23.47%,  -27.86%, \n",
      "\n",
      "[108] => 20320 ::: 19.32%,  22.52%,  -2.91%,  0.00%,  2.22%,  -16.64%,  -14.66%, \n",
      "\n",
      "[109] => 40197 ::: 23.98%,  25.88%,  -1.75%,  0.00%,  1.09%,  -18.40%,  -17.38%, \n",
      "\n",
      "[110] => 20822 ::: 32.61%,  30.93%,  1.11%,  0.00%,  -1.55%,  -21.12%,  -22.23%, \n",
      "\n",
      "[111] => 11684 ::: 43.84%,  35.09%,  6.50%,  0.00%,  -5.94%,  -23.33%,  -27.87%, \n",
      "\n"
     ]
    }
   ],
   "source": [
    "for stxs, nom_int in zip(enumerate(stxs_bins), int_nominal):\n",
    "    k = stxs[0]; stxs_bin = stxs[1]\n",
    "    print('[{}] => {} :::'.format(int(stxs_bin), nom_int), end='')\n",
    "    for i in range(9):\n",
    "        if (i==2) | (i==6):\n",
    "            continue\n",
    "        norm_stxs = (int_scale[i][k] - nom_int)/nom_int * 1e2\n",
    "        print(' {0:.2f}%, '.format(norm_stxs), end='')\n",
    "    print('\\n')"
   ]
  },
  {
   "cell_type": "code",
   "execution_count": 15,
   "metadata": {},
   "outputs": [],
   "source": [
    "integrals = {i: {int(k): [] for k in stxs_bins} for i in range(9) if ((i!= 2) & (i!= 6))}\n",
    "for stxs, nom_int in zip(enumerate(stxs_bins), int_nominal):\n",
    "    k = stxs[0]; stxs_bin = int(stxs[1])\n",
    "    for i in range(9):\n",
    "        if (i==2) | (i==6):\n",
    "            continue\n",
    "        int_varied = int_scale[i][k]\n",
    "        integrals[i][stxs_bin] = (int_varied)"
   ]
  },
  {
   "cell_type": "code",
   "execution_count": 16,
   "metadata": {},
   "outputs": [],
   "source": [
    "# for i in range(9):\n",
    "#     if (i==2) | (i==6):\n",
    "#         continue\n",
    "\n",
    "#     integrals[i][104] += integrals[i][105]\n",
    "#     integrals[i][104] += integrals[i][106]\n",
    "#     integrals[i][104] += integrals[i][107]\n",
    "    \n",
    "#     integrals[i][108] += integrals[i][109]\n",
    "#     integrals[i][108] += integrals[i][110]\n",
    "#     integrals[i][108] += integrals[i][111]\n",
    "#     integrals[i][108] += integrals[i][101]\n",
    "#     integrals[i][108] += integrals[i][102]"
   ]
  },
  {
   "cell_type": "code",
   "execution_count": 17,
   "metadata": {},
   "outputs": [],
   "source": [
    "yields = open(\"Yields_1p1.txt\",\"w+\")\n",
    "yields.write('STXS\\t\\t DD \\t\\t DN \\t\\t ND \\t\\t NN \\t\\t NU \\t\\t UN \\t\\t UU')\n",
    "yields.write('\\n')\n",
    "\n",
    "for stxs, nom_int in zip(enumerate(stxs_bins), int_nominal):\n",
    "    k = stxs[0]; stxs_bin = int(stxs[1])\n",
    "    yields.write('{} \\t'.format(int(stxs_bin)))\n",
    "    for i in range(9):\n",
    "        if (i==2) | (i==6):\n",
    "            continue\n",
    "        yields.write('\\t{0:.2f},\\t ' .format(integrals[i][stxs_bin]))\n",
    "    yields.write('\\n')\n",
    "yields.close()"
   ]
  },
  {
   "cell_type": "code",
   "execution_count": 18,
   "metadata": {},
   "outputs": [],
   "source": [
    "normalization = open(\"Normalization_1p1.txt\",\"w+\")\n",
    "normalization.write('STXS\\t\\t DD \\t\\t DN \\t\\t ND \\t\\t NN \\t\\t NU \\t\\t UN \\t\\t UU')\n",
    "normalization.write('\\n')\n",
    "for stxs, nom_int in zip(enumerate(stxs_bins), int_nominal):\n",
    "    k = stxs[0]; stxs_bin = int(stxs[1])\n",
    "    normalization.write('{} \\t'.format(int(stxs_bin)))\n",
    "    for i in range(9):\n",
    "        if (i==2) | (i==6):\n",
    "            continue\n",
    "        norm_int = nom_int/integrals[i][stxs_bin]\n",
    "        normalization.write('\\t{0:.2f},\\t ' .format(norm_int))\n",
    "    normalization.write('\\n')\n",
    "normalization.close()"
   ]
  },
  {
   "cell_type": "code",
   "execution_count": 19,
   "metadata": {},
   "outputs": [],
   "source": [
    "histos = {}\n",
    "for i in range(9):\n",
    "    if (i==2) | (i==6):\n",
    "        continue    \n",
    "    values = []\n",
    "    for stxs, nom_int in zip(enumerate(stxs_bins), int_nominal):\n",
    "        k = stxs[0]; stxs_bin = int(stxs[1])\n",
    "        norm_int = nom_int/integrals[i][stxs_bin]\n",
    "        values.append(norm_int)\n",
    "    histos[i] = values"
   ]
  },
  {
   "cell_type": "code",
   "execution_count": 20,
   "metadata": {},
   "outputs": [],
   "source": [
    "scale_var = {\n",
    "    0: r'$\\mu_r$ = 0.5, $\\mu_f$ = 0.5',\n",
    "    1: r'$\\mu_r$ = 0.5, $\\mu_f$ = 1.0',\n",
    "    3: r'$\\mu_r$ = 1.0, $\\mu_f$ = 0.5',\n",
    "    4: r'$\\mu_r$ = 1.0, $\\mu_f$ = 1.0',\n",
    "    5: r'$\\mu_r$ = 1.0, $\\mu_f$ = 2.0',\n",
    "    7: r'$\\mu_r$ = 2.0, $\\mu_f$ = 1.0',\n",
    "    8: r'$\\mu_r$ = 2.0, $\\mu_f$ = 2.0'\n",
    "}"
   ]
  },
  {
   "cell_type": "code",
   "execution_count": 23,
   "metadata": {},
   "outputs": [
    {
     "name": "stderr",
     "output_type": "stream",
     "text": [
      "/usr/local/bin/start_ipykernel.py:2: DeprecationWarning: object of type <class 'float'> cannot be safely interpreted as an integer.\n",
      "  if __name__ == '__main__':\n"
     ]
    },
    {
     "data": {
      "text/plain": [
       "Text(0, 1.0, '$\\\\sigma_{nom}/\\\\sigma_{var}$')"
      ]
     },
     "execution_count": 23,
     "metadata": {},
     "output_type": "execute_result"
    },
    {
     "data": {
      "image/png": "[encoded data removed]",
      "text/plain": [
       "<Figure size 900x750 with 1 Axes>"
      ]
     },
     "metadata": {},
     "output_type": "display_data"
    }
   ],
   "source": [
    "plt.figure(figsize = (6,5))\n",
    "cmap = plt.cm.coolwarm(np.linspace(0, 1., 9.))\n",
    "for i in range(9):\n",
    "    if (i==2) | (i==6):\n",
    "        continue\n",
    "    plt.step(stxs_bins, histos[i], where = 'mid', label = scale_var[i], color = cmap[i], linewidth = 1.5)\n",
    "    plt.grid(b = None)\n",
    "plt.legend(bbox_to_anchor=(1., 0.9))\n",
    "plt.xticks(stxs_bins, rotation = 45)\n",
    "plt.tick_params(which='minor', length=0)\n",
    "plt.ylim(0.5, 1.5)\n",
    "plt.title('STXS 1.1 bins uncertainties')\n",
    "plt.xlabel('STXS 1.1 Bin', ha='right', x=1.0, fontsize = 12)\n",
    "plt.ylabel(r'$\\sigma_{nom}/\\sigma_{var}$', ha='right', y=1.0, fontsize = 12)"
   ]
  },
  {
   "cell_type": "code",
   "execution_count": null,
   "metadata": {},
   "outputs": [],
   "source": []
  }
 ],
 "metadata": {
  "kernelspec": {
   "display_name": "Python 3",
   "language": "python",
   "name": "python3"
  },
  "language_info": {
   "codemirror_mode": {
    "name": "ipython",
    "version": 3
   },
   "file_extension": ".py",
   "mimetype": "text/x-python",
   "name": "python",
   "nbconvert_exporter": "python",
   "pygments_lexer": "ipython3",
   "version": "3.6.5"
  }
 },
 "nbformat": 4,
 "nbformat_minor": 2
}
