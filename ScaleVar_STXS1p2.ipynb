{
 "cells": [
  {
   "cell_type": "markdown",
   "metadata": {},
   "source": [
    "# STXS 1.2 Scale Variations Uncertainties"
   ]
  },
  {
   "cell_type": "markdown",
   "metadata": {},
   "source": [
    "The STXS Stage 1.2 uncertainties are computed by means of scale variations.\n",
    "As at the time of writing this I didn't find any NanoAOD with STXS 1.2 implemented, I am using the ggH ntuple produced with the [HZZ4L code](https://github.com/CJLST/ZZAnalysis) code.\n",
    "Here we have STXS 1.2 implemented according to [cms-sw recipe](https://github.com/cms-sw/cmssw/blob/master/SimDataFormats/HTXS/interface/HiggsTemplateCrossSections.h#L297). The scale variations in each STXS bin should be consistent with the gen-level ones, as we consider ratios between nominal and scaled values."
   ]
  },
  {
   "cell_type": "code",
   "execution_count": 1,
   "metadata": {},
   "outputs": [],
   "source": [
    "import matplotlib.pyplot as plt\n",
    "import matplotlib.colors\n",
    "import numpy as np\n",
    "import pandas as pd\n",
    "import uproot"
   ]
  },
  {
   "cell_type": "code",
   "execution_count": 2,
   "metadata": {},
   "outputs": [],
   "source": [
    "url = 'https://gist.githubusercontent.com/bonanomi/d14780f7562cb2a22fdd753a9d4459d4/raw/b3c6d77505b90eb38a886c19a31725df8ceb908f/MyMPLStyle'\n",
    "plt.style.use(url)"
   ]
  },
  {
   "cell_type": "code",
   "execution_count": 3,
   "metadata": {},
   "outputs": [],
   "source": [
    "eos_dir = '/eos/cms/store/group/phys_higgs/cmshzz4l/cjlst/RunIILegacy/200205_CutBased/MC_2016/ggH125/'\n",
    "file    = 'ZZ4lAnalysis.root'"
   ]
  },
  {
   "cell_type": "markdown",
   "metadata": {},
   "source": [
    "As first step, we import the `TTree` used later on. This is a `ggH` ($m_H=125$ GeV) sample produced from `miniAOD` sim files.\n",
    "We are only interested in few branches, namely:\n",
    " * STXS Stage 1.2 categorization;\n",
    " * QCD weights corresponding at renormalization ($\\mu_R$) and factorization ($\\mu_F$) scale variations;\n",
    "For consistency with what we have done for the STXS 1.1, using a `NanoAOD` sim file, we import all the scale variations. However, we do not consider the extreme scale variations, i.e. those for which $\\mu_R\\mu_F = 2$ (see e.g. [here](https://cernbox.cern.ch/index.php/s/lq8XUoJ4WjDCPlL) for further information about STXS uncertainties scheme).\n",
    "\n",
    "For each STXS bin, we are going to compute the ratio between the scale varied yield in that bin and the corresponding nominal value."
   ]
  },
  {
   "cell_type": "code",
   "execution_count": 4,
   "metadata": {},
   "outputs": [],
   "source": [
    "tree = 'ZZTree/candTree'\n",
    "fname = eos_dir + file\n",
    "branches = ['htxs_stage1p2_cat', 'LHEweight_QCDscale_muR0p5_muF0p5', \n",
    "            'LHEweight_QCDscale_muR0p5_muF1', 'LHEweight_QCDscale_muR0p5_muF2',\n",
    "            'LHEweight_QCDscale_muR1_muF0p5', 'LHEweight_QCDscale_muR1_muF1', \n",
    "            'LHEweight_QCDscale_muR1_muF2', 'LHEweight_QCDscale_muR2_muF0p5',\n",
    "            'LHEweight_QCDscale_muR2_muF1', 'LHEweight_QCDscale_muR2_muF2']\n",
    "weights = [ b'LHEweight_QCDscale_muR0p5_muF0p5', \n",
    "            b'LHEweight_QCDscale_muR0p5_muF1', b'LHEweight_QCDscale_muR0p5_muF2',\n",
    "            b'LHEweight_QCDscale_muR1_muF0p5', b'LHEweight_QCDscale_muR1_muF1', \n",
    "            b'LHEweight_QCDscale_muR1_muF2', b'LHEweight_QCDscale_muR2_muF0p5',\n",
    "            b'LHEweight_QCDscale_muR2_muF1', b'LHEweight_QCDscale_muR2_muF2']"
   ]
  },
  {
   "cell_type": "code",
   "execution_count": 5,
   "metadata": {},
   "outputs": [],
   "source": [
    "evt = uproot.open(fname)[tree]\n",
    "evts = evt.arrays(branches)"
   ]
  },
  {
   "cell_type": "markdown",
   "metadata": {},
   "source": [
    "## Loading the TTree and reading STXS bins"
   ]
  },
  {
   "cell_type": "markdown",
   "metadata": {},
   "source": [
    "We load the TTree and to be sure of including all the STXS categories, we use a large binning. Knowing *a priori* the values of the STXS bins, one could make a wiser choice here. However it does not affect what follows. The `h_stxs` histogram contains the information about the STXS categories, while in the `d` dictionary, we store the values of $\\mu_R,\\, \\mu_F$  scale variations per event. We use the same convention as of `NanoAOD` files:\n",
    " * `0`: $\\mu_R$ = 0.5, $\\mu_F$ = 0.5,\n",
    " * `1`: $\\mu_R$ = 0.5, $\\mu_F$ = 1, \n",
    " * `2`: $\\mu_R$ = 0.5, $\\mu_F$ = 2,\n",
    " * `3`: $\\mu_R$ = 1, $\\mu_F$ = 0.5, \n",
    " * `4`: $\\mu_R$ = 1, $\\mu_F$ = 1, \n",
    " * `5`: $\\mu_R$ = 1, $\\mu_F$ = 2, \n",
    " * `6`: $\\mu_R$ = 2, $\\mu_F$ = 0.5,\n",
    " * `7`: $\\mu_R$ = 2, $\\mu_F$ = 1, \n",
    " * `8`: $\\mu_R$ = 2, $\\mu_F$ = 2"
   ]
  },
  {
   "cell_type": "code",
   "execution_count": 6,
   "metadata": {},
   "outputs": [],
   "source": [
    "binning = np.linspace(0, 500, 500)"
   ]
  },
  {
   "cell_type": "code",
   "execution_count": 7,
   "metadata": {},
   "outputs": [],
   "source": [
    "h_stxs = np.histogram(evts[b'htxs_stage1p2_cat'], binning)"
   ]
  },
  {
   "cell_type": "code",
   "execution_count": 8,
   "metadata": {},
   "outputs": [],
   "source": [
    "d = {}\n",
    "for w in enumerate(weights):\n",
    "    i = w[0]; weight = w[1]\n",
    "    d[i] = evts[weight]"
   ]
  },
  {
   "cell_type": "markdown",
   "metadata": {},
   "source": [
    "We compute the reweighted histograms of the STXS classification and we store them in `d_scales`. Again, each one of these histos has 500 bins, but most of them will be empty."
   ]
  },
  {
   "cell_type": "code",
   "execution_count": 9,
   "metadata": {},
   "outputs": [
    {
     "name": "stdout",
     "output_type": "stream",
     "text": [
      "CPU times: user 45 ms, sys: 1.72 ms, total: 46.7 ms\n",
      "Wall time: 47.1 ms\n"
     ]
    }
   ],
   "source": [
    "%%time\n",
    "d_scales = {}\n",
    "for i in range(9):\n",
    "    d_scales[i] = np.histogram(evts[b'htxs_stage1p2_cat'], binning, weights=d[i])"
   ]
  },
  {
   "cell_type": "markdown",
   "metadata": {},
   "source": [
    "We compute the nominal yield for each STXS bin. Here we save only the non null values."
   ]
  },
  {
   "cell_type": "code",
   "execution_count": 10,
   "metadata": {},
   "outputs": [],
   "source": [
    "int_nominal = [i for i in h_stxs[0] if i!=0]"
   ]
  },
  {
   "cell_type": "markdown",
   "metadata": {},
   "source": [
    "We also store the yield of each STXS bin corresponding to the different values of the $\\mu_R,\\, \\mu_F$ scale variations. As mentioned above, we are not considering the values corresponding to *extreme* scale variations, i.e. those for which $\\mu_R \\mu_F = 2$. For the convention we are using, these correspond to the indexes `2` and `6`. Note that index `4` correspond to the nominal value. Hence we expect to retrieve a null uncertainty for this scale variation (i.e. ratio w.r.t `int_nominal` equal to one in all the STXS bins)."
   ]
  },
  {
   "cell_type": "code",
   "execution_count": 11,
   "metadata": {},
   "outputs": [
    {
     "name": "stdout",
     "output_type": "stream",
     "text": [
      "CPU times: user 3.54 ms, sys: 5 µs, total: 3.55 ms\n",
      "Wall time: 3.4 ms\n"
     ]
    }
   ],
   "source": [
    "%%time\n",
    "int_scale = {}\n",
    "for i in range(9):\n",
    "    if (i==2) | (i==6):\n",
    "        continue\n",
    "    int_scale[i] = [j for j, k in zip(d_scales[i][0], h_stxs[0]) if k != 0]"
   ]
  },
  {
   "cell_type": "code",
   "execution_count": 12,
   "metadata": {},
   "outputs": [],
   "source": [
    "bins_c =  0.5*(h_stxs[1][1:]+h_stxs[1][:-1])"
   ]
  },
  {
   "cell_type": "code",
   "execution_count": 13,
   "metadata": {},
   "outputs": [],
   "source": [
    "stxs_bins = [round(j, 0) for i, j in zip(h_stxs[0], bins_c) if i!=0]"
   ]
  },
  {
   "cell_type": "markdown",
   "metadata": {},
   "source": [
    "## Yields in STXS bins "
   ]
  },
  {
   "cell_type": "markdown",
   "metadata": {},
   "source": [
    "Simple printout of the yields in each STXS bin, both for the nominal values and all the scaled variations. Below we print the relative scale variation w.r.t the nominal value. "
   ]
  },
  {
   "cell_type": "code",
   "execution_count": 39,
   "metadata": {},
   "outputs": [
    {
     "name": "stdout",
     "output_type": "stream",
     "text": [
      "STXS\t Nominal\t DD\t\t DN\t\t ND\t\t NN\t\t NU\t\t UN\t\t UU\n",
      "[101] => 2061 :::\t 2917.33, \t 2776.52, \t 2161.33, \t 2061.00, \t 1963.50, \t 1578.35, \t 1506.26, \t\n",
      "\n",
      "[102] => 705 :::\t 1045.53, \t 958.76, \t 767.88, \t 705.00, \t 649.81, \t 534.97, \t 493.65, \t\n",
      "\n",
      "[103] => 134 :::\t 209.63, \t 183.57, \t 152.99, \t 134.00, \t 118.43, \t 100.95, \t 89.23, \t\n",
      "\n",
      "[104] => 15 :::\t 24.29, \t 20.57, \t 17.71, \t 15.00, \t 12.88, \t 11.29, \t 9.69, \t\n",
      "\n",
      "[105] => 15066 :::\t 17163.01, \t 17803.18, \t 14465.83, \t 15066.00, \t 15569.12, \t 12904.88, \t 13356.48, \t\n",
      "\n",
      "[106] => 57684 :::\t 66072.45, \t 68454.95, \t 55457.02, \t 57684.00, \t 59532.43, \t 49259.72, \t 50920.08, \t\n",
      "\n",
      "[107] => 16377 :::\t 19159.78, \t 19761.13, \t 15818.53, \t 16377.00, \t 16821.23, \t 13813.34, \t 14211.98, \t\n",
      "\n",
      "[108] => 11124 :::\t 13564.70, \t 13870.88, \t 10837.10, \t 11124.00, \t 11325.29, \t 9136.87, \t 9317.84, \t\n",
      "\n",
      "[109] => 2220 :::\t 2945.94, \t 2917.92, \t 2236.47, \t 2220.00, \t 2191.51, \t 1743.77, \t 1723.40, \t\n",
      "\n",
      "[110] => 2375 :::\t 2819.95, \t 2900.53, \t 2300.72, \t 2375.00, \t 2431.91, \t 1984.34, \t 2035.35, \t\n",
      "\n",
      "[111] => 5210 :::\t 6431.64, \t 6549.77, \t 5098.44, \t 5210.00, \t 5282.86, \t 4251.96, \t 4319.17, \t\n",
      "\n",
      "[112] => 2992 :::\t 3950.41, \t 3909.22, \t 3016.95, \t 2992.00, \t 2952.50, \t 2363.87, \t 2336.16, \t\n",
      "\n",
      "[113] => 640 :::\t 797.62, \t 807.25, \t 630.02, \t 640.00, \t 645.93, \t 520.91, \t 526.74, \t\n",
      "\n",
      "[114] => 1022 :::\t 1314.52, \t 1311.66, \t 1020.57, \t 1022.00, \t 1017.81, \t 819.69, \t 818.10, \t\n",
      "\n",
      "[115] => 291 :::\t 358.97, \t 366.33, \t 284.17, \t 291.00, \t 296.22, \t 237.16, \t 241.73, \t\n",
      "\n",
      "[116] => 428 :::\t 552.61, \t 546.59, \t 430.77, \t 428.00, \t 423.81, \t 344.75, \t 342.33, \t\n",
      "\n"
     ]
    }
   ],
   "source": [
    "print('STXS\\t Nominal\\t DD\\t\\t DN\\t\\t ND\\t\\t NN\\t\\t NU\\t\\t UN\\t\\t UU')\n",
    "\n",
    "for stxs, nom_int in zip(enumerate(stxs_bins), int_nominal):\n",
    "    k = stxs[0]; stxs_bin = stxs[1]\n",
    "    print('[{}] => {} :::\\t'.format(int(stxs_bin), nom_int), end='')\n",
    "    for i in range(9):\n",
    "        if (i==2) | (i==6):\n",
    "            continue\n",
    "        print(' {0:.2f}, \\t'.format(int_scale[i][k]), end='')\n",
    "    print('\\n')"
   ]
  },
  {
   "cell_type": "code",
   "execution_count": 40,
   "metadata": {},
   "outputs": [
    {
     "name": "stdout",
     "output_type": "stream",
     "text": [
      "STXS\t Nominal\t DD\t\t DN\t\t ND\t\t NN\t\t NU\t\t UN\t\t UU\n",
      "[101] => 2061 :::\t 41.55%, \t 34.72%, \t 4.87%, \t 0.00%, \t -4.73%, \t -23.42%, \t -26.92%, \t\n",
      "\n",
      "[102] => 705 :::\t 48.30%, \t 35.99%, \t 8.92%, \t 0.00%, \t -7.83%, \t -24.12%, \t -29.98%, \t\n",
      "\n",
      "[103] => 134 :::\t 56.44%, \t 36.99%, \t 14.17%, \t 0.00%, \t -11.62%, \t -24.67%, \t -33.41%, \t\n",
      "\n",
      "[104] => 15 :::\t 61.93%, \t 37.14%, \t 18.07%, \t 0.00%, \t -14.12%, \t -24.74%, \t -35.38%, \t\n",
      "\n",
      "[105] => 15066 :::\t 13.92%, \t 18.17%, \t -3.98%, \t 0.00%, \t 3.34%, \t -14.34%, \t -11.35%, \t\n",
      "\n",
      "[106] => 57684 :::\t 14.54%, \t 18.67%, \t -3.86%, \t 0.00%, \t 3.20%, \t -14.60%, \t -11.73%, \t\n",
      "\n",
      "[107] => 16377 :::\t 16.99%, \t 20.66%, \t -3.41%, \t 0.00%, \t 2.71%, \t -15.65%, \t -13.22%, \t\n",
      "\n",
      "[108] => 11124 :::\t 21.94%, \t 24.69%, \t -2.58%, \t 0.00%, \t 1.81%, \t -17.86%, \t -16.24%, \t\n",
      "\n",
      "[109] => 2220 :::\t 32.70%, \t 31.44%, \t 0.74%, \t 0.00%, \t -1.28%, \t -21.45%, \t -22.37%, \t\n",
      "\n",
      "[110] => 2375 :::\t 18.73%, \t 22.13%, \t -3.13%, \t 0.00%, \t 2.40%, \t -16.45%, \t -14.30%, \t\n",
      "\n",
      "[111] => 5210 :::\t 23.45%, \t 25.72%, \t -2.14%, \t 0.00%, \t 1.40%, \t -18.39%, \t -17.10%, \t\n",
      "\n",
      "[112] => 2992 :::\t 32.03%, \t 30.66%, \t 0.83%, \t 0.00%, \t -1.32%, \t -20.99%, \t -21.92%, \t\n",
      "\n",
      "[113] => 640 :::\t 24.63%, \t 26.13%, \t -1.56%, \t 0.00%, \t 0.93%, \t -18.61%, \t -17.70%, \t\n",
      "\n",
      "[114] => 1022 :::\t 28.62%, \t 28.34%, \t -0.14%, \t 0.00%, \t -0.41%, \t -19.80%, \t -19.95%, \t\n",
      "\n",
      "[115] => 291 :::\t 23.36%, \t 25.89%, \t -2.35%, \t 0.00%, \t 1.79%, \t -18.50%, \t -16.93%, \t\n",
      "\n",
      "[116] => 428 :::\t 29.11%, \t 27.71%, \t 0.65%, \t 0.00%, \t -0.98%, \t -19.45%, \t -20.02%, \t\n",
      "\n"
     ]
    }
   ],
   "source": [
    "print('STXS\\t Nominal\\t DD\\t\\t DN\\t\\t ND\\t\\t NN\\t\\t NU\\t\\t UN\\t\\t UU')\n",
    "for stxs, nom_int in zip(enumerate(stxs_bins), int_nominal):\n",
    "    k = stxs[0]; stxs_bin = stxs[1]\n",
    "    print('[{}] => {} :::\\t'.format(int(stxs_bin), nom_int), end='')\n",
    "    for i in range(9):\n",
    "        if (i==2) | (i==6):\n",
    "            continue\n",
    "        norm_stxs = (int_scale[i][k] - nom_int)/nom_int * 1e2\n",
    "        print(' {0:.2f}%, \\t'.format(norm_stxs), end='')\n",
    "    print('\\n')"
   ]
  },
  {
   "cell_type": "markdown",
   "metadata": {},
   "source": [
    "## Saving to file and plotting"
   ]
  },
  {
   "cell_type": "markdown",
   "metadata": {},
   "source": [
    "We create `integrals` dictionary to store the information about the STXS yields corresponding to the different scale variations. We use this value later on to store the yields and the relative variations to files. In integrals we have:\n",
    "```\n",
    " integrals = { 0: {101: yield_101, 102: yield_102, ecc}\n",
    "               ...\n",
    "               8: {101: yield_101, 102: yield_102, ecc}\n",
    "             }\n",
    "```"
   ]
  },
  {
   "cell_type": "code",
   "execution_count": 16,
   "metadata": {},
   "outputs": [],
   "source": [
    "integrals = {i: {int(k): [] for k in stxs_bins} for i in range(9) if ((i!= 2) & (i!= 6))}\n",
    "for stxs, nom_int in zip(enumerate(stxs_bins), int_nominal):\n",
    "    k = stxs[0]; stxs_bin = int(stxs[1])\n",
    "    for i in range(9):\n",
    "        if (i==2) | (i==6):\n",
    "            continue\n",
    "        int_varied = int_scale[i][k]\n",
    "        integrals[i][stxs_bin] = (int_varied)"
   ]
  },
  {
   "cell_type": "code",
   "execution_count": 17,
   "metadata": {},
   "outputs": [],
   "source": [
    "# for i in range(9):\n",
    "#     if (i==2) | (i==6):\n",
    "#         continue\n",
    "\n",
    "#     integrals[i][104] += integrals[i][105]\n",
    "#     integrals[i][104] += integrals[i][106]\n",
    "#     integrals[i][104] += integrals[i][107]\n",
    "    \n",
    "#     integrals[i][108] += integrals[i][109]\n",
    "#     integrals[i][108] += integrals[i][110]\n",
    "#     integrals[i][108] += integrals[i][111]\n",
    "#     integrals[i][108] += integrals[i][101]\n",
    "#     integrals[i][108] += integrals[i][102]"
   ]
  },
  {
   "cell_type": "code",
   "execution_count": 41,
   "metadata": {},
   "outputs": [
    {
     "name": "stdout",
     "output_type": "stream",
     "text": [
      "/eos/home-m/mbonanom/SWAN_projects/STXS\r\n"
     ]
    }
   ],
   "source": [
    "!pwd"
   ]
  },
  {
   "cell_type": "code",
   "execution_count": 18,
   "metadata": {},
   "outputs": [],
   "source": [
    "yields = open(\"Yields_1p2.txt\",\"w+\")\n",
    "yields.write('STXS\\t\\t DD \\t\\t DN \\t\\t ND \\t\\t NN \\t\\t NU \\t\\t UN \\t\\t UU')\n",
    "yields.write('\\n')\n",
    "\n",
    "for stxs, nom_int in zip(enumerate(stxs_bins), int_nominal):\n",
    "    k = stxs[0]; stxs_bin = int(stxs[1])\n",
    "    yields.write('{} \\t'.format(int(stxs_bin)))\n",
    "    for i in range(9):\n",
    "        if (i==2) | (i==6):\n",
    "            continue\n",
    "        yields.write('\\t{0:.2f},\\t ' .format(integrals[i][stxs_bin]))\n",
    "    yields.write('\\n')\n",
    "yields.close()"
   ]
  },
  {
   "cell_type": "code",
   "execution_count": 19,
   "metadata": {},
   "outputs": [],
   "source": [
    "normalization = open(\"Normalization_1p2.txt\",\"w+\")\n",
    "normalization.write('STXS\\t\\t DD \\t\\t DN \\t\\t ND \\t\\t NN \\t\\t NU \\t\\t UN \\t\\t UU')\n",
    "normalization.write('\\n')\n",
    "for stxs, nom_int in zip(enumerate(stxs_bins), int_nominal):\n",
    "    k = stxs[0]; stxs_bin = int(stxs[1])\n",
    "    normalization.write('{} \\t'.format(int(stxs_bin)))\n",
    "    for i in range(9):\n",
    "        if (i==2) | (i==6):\n",
    "            continue\n",
    "        norm_int = nom_int/integrals[i][stxs_bin]\n",
    "        normalization.write('\\t{0:.2f},\\t ' .format(norm_int))\n",
    "    normalization.write('\\n')\n",
    "normalization.close()"
   ]
  },
  {
   "cell_type": "code",
   "execution_count": 20,
   "metadata": {},
   "outputs": [],
   "source": [
    "histos = {}\n",
    "for i in range(9):\n",
    "    if (i==2) | (i==6):\n",
    "        continue    \n",
    "    values = []\n",
    "    for stxs, nom_int in zip(enumerate(stxs_bins), int_nominal):\n",
    "        k = stxs[0]; stxs_bin = int(stxs[1])\n",
    "        norm_int = nom_int/integrals[i][stxs_bin]\n",
    "        values.append(norm_int)\n",
    "    histos[i] = values"
   ]
  },
  {
   "cell_type": "code",
   "execution_count": 21,
   "metadata": {},
   "outputs": [],
   "source": [
    "scale_var = {\n",
    "    0: r'$\\mu_r$ = 0.5, $\\mu_f$ = 0.5',\n",
    "    1: r'$\\mu_r$ = 0.5, $\\mu_f$ = 1.0',\n",
    "    3: r'$\\mu_r$ = 1.0, $\\mu_f$ = 0.5',\n",
    "    4: r'$\\mu_r$ = 1.0, $\\mu_f$ = 1.0',\n",
    "    5: r'$\\mu_r$ = 1.0, $\\mu_f$ = 2.0',\n",
    "    7: r'$\\mu_r$ = 2.0, $\\mu_f$ = 1.0',\n",
    "    8: r'$\\mu_r$ = 2.0, $\\mu_f$ = 2.0'\n",
    "}"
   ]
  },
  {
   "cell_type": "code",
   "execution_count": 24,
   "metadata": {},
   "outputs": [
    {
     "name": "stderr",
     "output_type": "stream",
     "text": [
      "/usr/local/bin/start_ipykernel.py:2: DeprecationWarning: object of type <class 'float'> cannot be safely interpreted as an integer.\n",
      "  if __name__ == '__main__':\n"
     ]
    },
    {
     "data": {
      "text/plain": [
       "Text(0, 1.0, '$\\\\sigma_{nom}/\\\\sigma_{var}$')"
      ]
     },
     "execution_count": 24,
     "metadata": {},
     "output_type": "execute_result"
    },
    {
     "data": {
      "image/png": "[encoded data removed]",
      "text/plain": [
       "<Figure size 900x750 with 1 Axes>"
      ]
     },
     "metadata": {},
     "output_type": "display_data"
    }
   ],
   "source": [
    "plt.figure(figsize = (6,5))\n",
    "cmap = plt.cm.coolwarm(np.linspace(0, 1., 9.))\n",
    "for i in range(9):\n",
    "    if (i==2) | (i==6):\n",
    "        continue\n",
    "    plt.step(stxs_bins, histos[i], where = 'mid', label = scale_var[i], color = cmap[i], linewidth = 1.5)\n",
    "    plt.grid(b = None)\n",
    "plt.legend(bbox_to_anchor=(1., 0.9))\n",
    "plt.xticks(stxs_bins, rotation = 45)\n",
    "plt.tick_params(which='minor', length=0)\n",
    "plt.ylim(0.3, 1.8)\n",
    "plt.title('STXS 1.2 bins uncertainties')\n",
    "plt.xlabel('STXS 1.2 Bin', ha='right', x=1.0, fontsize = 12)\n",
    "plt.ylabel(r'$\\sigma_{nom}/\\sigma_{var}$', ha='right', y=1.0, fontsize = 12)"
   ]
  },
  {
   "cell_type": "code",
   "execution_count": null,
   "metadata": {},
   "outputs": [],
   "source": []
  }
 ],
 "metadata": {
  "kernelspec": {
   "display_name": "Python 3",
   "language": "python",
   "name": "python3"
  },
  "language_info": {
   "codemirror_mode": {
    "name": "ipython",
    "version": 3
   },
   "file_extension": ".py",
   "mimetype": "text/x-python",
   "name": "python",
   "nbconvert_exporter": "python",
   "pygments_lexer": "ipython3",
   "version": "3.6.5"
  }
 },
 "nbformat": 4,
 "nbformat_minor": 2
}
