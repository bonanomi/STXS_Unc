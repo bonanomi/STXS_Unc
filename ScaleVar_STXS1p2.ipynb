{
 "cells": [
  {
   "cell_type": "markdown",
   "metadata": {},
   "source": [
    "# STXS 1.2 Scale Variations Uncertainties"
   ]
  },
  {
   "cell_type": "markdown",
   "metadata": {},
   "source": [
    "The STXS Stage 1.2 uncertainties are computed by means of scale variations.\n",
    "As at the time of writing this I didn't find any NanoAOD with STXS 1.2 implemented, I am using the ggH ntuple produced with the [HZZ4L code](https://github.com/CJLST/ZZAnalysis) code.\n",
    "Here we have STXS 1.2 implemented according to [cms-sw recipe](https://github.com/cms-sw/cmssw/blob/master/SimDataFormats/HTXS/interface/HiggsTemplateCrossSections.h#L297). The scale variations in each STXS bin should be consistent with the gen-level ones, as we consider ratios between nominal and scaled values."
   ]
  },
  {
   "cell_type": "code",
   "execution_count": 84,
   "metadata": {},
   "outputs": [],
   "source": [
    "import matplotlib.pyplot as plt\n",
    "import matplotlib.colors\n",
    "import numpy as np\n",
    "import pandas as pd\n",
    "import uproot"
   ]
  },
  {
   "cell_type": "code",
   "execution_count": 85,
   "metadata": {},
   "outputs": [
    {
     "data": {
      "text/plain": [
       "0"
      ]
     },
     "execution_count": 85,
     "metadata": {},
     "output_type": "execute_result"
    }
   ],
   "source": [
    "## Not needed on lxplus\n",
    "import os\n",
    "os.system('/opt/exp_soft/cms/t3/eos-login -init -username mbonanom')"
   ]
  },
  {
   "cell_type": "code",
   "execution_count": 86,
   "metadata": {},
   "outputs": [],
   "source": [
    "url = 'https://gist.githubusercontent.com/bonanomi/d14780f7562cb2a22fdd753a9d4459d4/raw/b3c6d77505b90eb38a886c19a31725df8ceb908f/MyMPLStyle'\n",
    "plt.style.use(url)"
   ]
  },
  {
   "cell_type": "code",
   "execution_count": 87,
   "metadata": {},
   "outputs": [],
   "source": [
    "eos_dir = '/eos/cms/store/group/phys_higgs/cmshzz4l/cjlst/RunIILegacy/200205_CutBased/MC_2016/ggH125/'\n",
    "file    = 'ZZ4lAnalysis.root'"
   ]
  },
  {
   "cell_type": "markdown",
   "metadata": {},
   "source": [
    "As first step, we import the `TTree` used later on. This is a `ggH` ($m_H=125$ GeV) sample produced from `miniAOD` sim files.\n",
    "We are only interested in few branches, namely:\n",
    " * STXS Stage 1.2 categorization;\n",
    " * QCD weights corresponding at renormalization ($\\mu_R$) and factorization ($\\mu_F$) scale variations;\n",
    "For consistency with what we have done for the STXS 1.1, using a `NanoAOD` sim file, we import all the scale variations. However, we do not consider the extreme scale variations, i.e. those for which $\\mu_R\\mu_F = 2$ (see e.g. [here](https://cernbox.cern.ch/index.php/s/lq8XUoJ4WjDCPlL) for further information about STXS uncertainties scheme).\n",
    "\n",
    "For each STXS bin, we are going to compute the ratio between the scale varied yield in that bin and the corresponding nominal value."
   ]
  },
  {
   "cell_type": "code",
   "execution_count": 88,
   "metadata": {},
   "outputs": [],
   "source": [
    "tree = 'ZZTree/candTree'\n",
    "fname = eos_dir + file\n",
    "branches = ['htxs_stage1p2_cat', 'LHEweight_QCDscale_muR0p5_muF0p5', \n",
    "            'LHEweight_QCDscale_muR0p5_muF1', 'LHEweight_QCDscale_muR0p5_muF2',\n",
    "            'LHEweight_QCDscale_muR1_muF0p5', 'LHEweight_QCDscale_muR1_muF1', \n",
    "            'LHEweight_QCDscale_muR1_muF2', 'LHEweight_QCDscale_muR2_muF0p5',\n",
    "            'LHEweight_QCDscale_muR2_muF1', 'LHEweight_QCDscale_muR2_muF2']\n",
    "weights = [ b'LHEweight_QCDscale_muR0p5_muF0p5', \n",
    "            b'LHEweight_QCDscale_muR0p5_muF1', b'LHEweight_QCDscale_muR0p5_muF2',\n",
    "            b'LHEweight_QCDscale_muR1_muF0p5', b'LHEweight_QCDscale_muR1_muF1', \n",
    "            b'LHEweight_QCDscale_muR1_muF2', b'LHEweight_QCDscale_muR2_muF0p5',\n",
    "            b'LHEweight_QCDscale_muR2_muF1', b'LHEweight_QCDscale_muR2_muF2']"
   ]
  },
  {
   "cell_type": "code",
   "execution_count": 89,
   "metadata": {},
   "outputs": [],
   "source": [
    "evt = uproot.open(fname)[tree]\n",
    "evts = evt.arrays(branches)"
   ]
  },
  {
   "cell_type": "markdown",
   "metadata": {},
   "source": [
    "## Loading the TTree and reading STXS bins"
   ]
  },
  {
   "cell_type": "markdown",
   "metadata": {},
   "source": [
    "We load the TTree and to be sure of including all the STXS categories, we use a large binning. Knowing *a priori* the values of the STXS bins, one could make a wiser choice here. However it does not affect what follows. The `h_stxs` histogram contains the information about the STXS categories, while in the `d` dictionary, we store the values of $\\mu_R,\\, \\mu_F$  scale variations per event. We use the same convention as of `NanoAOD` files:\n",
    " * `0`: $\\mu_R$ = 0.5, $\\mu_F$ = 0.5,\n",
    " * `1`: $\\mu_R$ = 0.5, $\\mu_F$ = 1, \n",
    " * `2`: $\\mu_R$ = 0.5, $\\mu_F$ = 2,\n",
    " * `3`: $\\mu_R$ = 1, $\\mu_F$ = 0.5, \n",
    " * `4`: $\\mu_R$ = 1, $\\mu_F$ = 1, \n",
    " * `5`: $\\mu_R$ = 1, $\\mu_F$ = 2, \n",
    " * `6`: $\\mu_R$ = 2, $\\mu_F$ = 0.5,\n",
    " * `7`: $\\mu_R$ = 2, $\\mu_F$ = 1, \n",
    " * `8`: $\\mu_R$ = 2, $\\mu_F$ = 2"
   ]
  },
  {
   "cell_type": "code",
   "execution_count": 90,
   "metadata": {},
   "outputs": [],
   "source": [
    "binning = np.linspace(0, 500, 500)"
   ]
  },
  {
   "cell_type": "code",
   "execution_count": 91,
   "metadata": {},
   "outputs": [],
   "source": [
    "h_stxs = np.histogram(evts[b'htxs_stage1p2_cat'], binning)"
   ]
  },
  {
   "cell_type": "code",
   "execution_count": 92,
   "metadata": {},
   "outputs": [],
   "source": [
    "d = {}\n",
    "for w in enumerate(weights):\n",
    "    i = w[0]; weight = w[1]\n",
    "    d[i] = evts[weight]"
   ]
  },
  {
   "cell_type": "markdown",
   "metadata": {},
   "source": [
    "We compute the reweighted histograms of the STXS classification and we store them in `d_scales`. Again, each one of these histos has 500 bins, but most of them will be empty."
   ]
  },
  {
   "cell_type": "code",
   "execution_count": 93,
   "metadata": {},
   "outputs": [
    {
     "name": "stdout",
     "output_type": "stream",
     "text": [
      "CPU times: user 43.4 ms, sys: 172 µs, total: 43.6 ms\n",
      "Wall time: 42.7 ms\n"
     ]
    }
   ],
   "source": [
    "%%time\n",
    "d_scales = {}\n",
    "for i in range(9):\n",
    "    d_scales[i] = np.histogram(evts[b'htxs_stage1p2_cat'], binning, weights=d[i])"
   ]
  },
  {
   "cell_type": "markdown",
   "metadata": {},
   "source": [
    "We compute the nominal yield for each STXS bin. Here we save only the non null values."
   ]
  },
  {
   "cell_type": "code",
   "execution_count": 94,
   "metadata": {},
   "outputs": [],
   "source": [
    "int_nominal = [i for i in h_stxs[0] if i!=0]"
   ]
  },
  {
   "cell_type": "markdown",
   "metadata": {},
   "source": [
    "We also store the yield of each STXS bin corresponding to the different values of the $\\mu_R,\\, \\mu_F$ scale variations. As mentioned above, we are not considering the values corresponding to *extreme* scale variations, i.e. those for which $\\mu_R \\mu_F = 2$. For the convention we are using, these correspond to the indexes `2` and `6`. Note that index `4` correspond to the nominal value. Hence we expect to retrieve a null uncertainty for this scale variation (i.e. ratio w.r.t `int_nominal` equal to one in all the STXS bins)."
   ]
  },
  {
   "cell_type": "code",
   "execution_count": 95,
   "metadata": {},
   "outputs": [
    {
     "name": "stdout",
     "output_type": "stream",
     "text": [
      "CPU times: user 2.17 ms, sys: 84 µs, total: 2.25 ms\n",
      "Wall time: 2.26 ms\n"
     ]
    }
   ],
   "source": [
    "%%time\n",
    "int_scale = {}\n",
    "for i in range(9):\n",
    "    if (i==2) | (i==6):\n",
    "        continue\n",
    "    int_scale[i] = [j for j, k in zip(d_scales[i][0], h_stxs[0]) if k != 0]"
   ]
  },
  {
   "cell_type": "code",
   "execution_count": 96,
   "metadata": {},
   "outputs": [],
   "source": [
    "bins_c =  0.5*(h_stxs[1][1:]+h_stxs[1][:-1])"
   ]
  },
  {
   "cell_type": "code",
   "execution_count": 97,
   "metadata": {},
   "outputs": [],
   "source": [
    "stxs_bins = [round(j, 0) for i, j in zip(h_stxs[0], bins_c) if i!=0]"
   ]
  },
  {
   "cell_type": "markdown",
   "metadata": {},
   "source": [
    "## Yields in STXS bins "
   ]
  },
  {
   "cell_type": "markdown",
   "metadata": {},
   "source": [
    "Simple printout of the yields in each STXS bin, both for the nominal values and all the scaled variations. Below we print the relative scale variation w.r.t the nominal value. "
   ]
  },
  {
   "cell_type": "code",
   "execution_count": 98,
   "metadata": {},
   "outputs": [
    {
     "name": "stdout",
     "output_type": "stream",
     "text": [
      "STXS\t Nominal   DD       DN        ND        NN        NU        UN        UU\n",
      "[101] => 2061 ::: 2917.33,   2776.52,   2161.33,   2061.00,   1963.50,   1578.35,   1506.26,  \n",
      "\n",
      "[102] => 705 ::: 1045.53,   958.76,   767.88,   705.00,   649.81,   534.97,   493.65,  \n",
      "\n",
      "[103] => 134 ::: 209.63,   183.57,   152.99,   134.00,   118.43,   100.95,   89.23,  \n",
      "\n",
      "[104] => 15 ::: 24.29,   20.57,   17.71,   15.00,   12.88,   11.29,   9.69,  \n",
      "\n",
      "[105] => 15066 ::: 17163.01,   17803.18,   14465.83,   15066.00,   15569.12,   12904.88,   13356.48,  \n",
      "\n",
      "[106] => 57684 ::: 66072.45,   68454.95,   55457.02,   57684.00,   59532.43,   49259.72,   50920.08,  \n",
      "\n",
      "[107] => 16377 ::: 19159.78,   19761.13,   15818.53,   16377.00,   16821.23,   13813.34,   14211.98,  \n",
      "\n",
      "[108] => 11124 ::: 13564.70,   13870.88,   10837.10,   11124.00,   11325.29,   9136.87,   9317.84,  \n",
      "\n",
      "[109] => 2220 ::: 2945.94,   2917.92,   2236.47,   2220.00,   2191.51,   1743.77,   1723.40,  \n",
      "\n",
      "[110] => 2375 ::: 2819.95,   2900.53,   2300.72,   2375.00,   2431.91,   1984.34,   2035.35,  \n",
      "\n",
      "[111] => 5210 ::: 6431.64,   6549.77,   5098.44,   5210.00,   5282.86,   4251.96,   4319.17,  \n",
      "\n",
      "[112] => 2992 ::: 3950.41,   3909.22,   3016.95,   2992.00,   2952.50,   2363.87,   2336.16,  \n",
      "\n",
      "[113] => 640 ::: 797.62,   807.25,   630.02,   640.00,   645.93,   520.91,   526.74,  \n",
      "\n",
      "[114] => 1022 ::: 1314.52,   1311.66,   1020.57,   1022.00,   1017.81,   819.69,   818.10,  \n",
      "\n",
      "[115] => 291 ::: 358.97,   366.33,   284.17,   291.00,   296.22,   237.16,   241.73,  \n",
      "\n",
      "[116] => 428 ::: 552.61,   546.59,   430.77,   428.00,   423.81,   344.75,   342.33,  \n",
      "\n"
     ]
    }
   ],
   "source": [
    "print('STXS\\t Nominal   DD       DN        ND        NN        NU        UN        UU')\n",
    "\n",
    "for stxs, nom_int in zip(enumerate(stxs_bins), int_nominal):\n",
    "    k = stxs[0]; stxs_bin = stxs[1]\n",
    "    print('[{}] => {} :::'.format(int(stxs_bin), nom_int), end='')\n",
    "    for i in range(9):\n",
    "        if (i==2) | (i==6):\n",
    "            continue\n",
    "        print(' {0:.2f},  '.format(int_scale[i][k]), end='')\n",
    "    print('\\n')"
   ]
  },
  {
   "cell_type": "markdown",
   "metadata": {},
   "source": [
    "## Relative variations w.r.t $\\mu_R$, $\\mu_F$"
   ]
  },
  {
   "cell_type": "code",
   "execution_count": 99,
   "metadata": {},
   "outputs": [
    {
     "name": "stdout",
     "output_type": "stream",
     "text": [
      "STXS\t Nominal   DD       DN        ND        NN        NU        UN        UU\n",
      "[101] => 2061 ::: 41.55%,   34.72%,   4.87%,   0.00%,   -4.73%,   -23.42%,   -26.92%,  \n",
      "\n",
      "[102] => 705 ::: 48.30%,   35.99%,   8.92%,   0.00%,   -7.83%,   -24.12%,   -29.98%,  \n",
      "\n",
      "[103] => 134 ::: 56.44%,   36.99%,   14.17%,   0.00%,   -11.62%,   -24.67%,   -33.41%,  \n",
      "\n",
      "[104] => 15 ::: 61.93%,   37.14%,   18.07%,   0.00%,   -14.12%,   -24.74%,   -35.38%,  \n",
      "\n",
      "[105] => 15066 ::: 13.92%,   18.17%,   -3.98%,   0.00%,   3.34%,   -14.34%,   -11.35%,  \n",
      "\n",
      "[106] => 57684 ::: 14.54%,   18.67%,   -3.86%,   0.00%,   3.20%,   -14.60%,   -11.73%,  \n",
      "\n",
      "[107] => 16377 ::: 16.99%,   20.66%,   -3.41%,   0.00%,   2.71%,   -15.65%,   -13.22%,  \n",
      "\n",
      "[108] => 11124 ::: 21.94%,   24.69%,   -2.58%,   0.00%,   1.81%,   -17.86%,   -16.24%,  \n",
      "\n",
      "[109] => 2220 ::: 32.70%,   31.44%,   0.74%,   0.00%,   -1.28%,   -21.45%,   -22.37%,  \n",
      "\n",
      "[110] => 2375 ::: 18.73%,   22.13%,   -3.13%,   0.00%,   2.40%,   -16.45%,   -14.30%,  \n",
      "\n",
      "[111] => 5210 ::: 23.45%,   25.72%,   -2.14%,   0.00%,   1.40%,   -18.39%,   -17.10%,  \n",
      "\n",
      "[112] => 2992 ::: 32.03%,   30.66%,   0.83%,   0.00%,   -1.32%,   -20.99%,   -21.92%,  \n",
      "\n",
      "[113] => 640 ::: 24.63%,   26.13%,   -1.56%,   0.00%,   0.93%,   -18.61%,   -17.70%,  \n",
      "\n",
      "[114] => 1022 ::: 28.62%,   28.34%,   -0.14%,   0.00%,   -0.41%,   -19.80%,   -19.95%,  \n",
      "\n",
      "[115] => 291 ::: 23.36%,   25.89%,   -2.35%,   0.00%,   1.79%,   -18.50%,   -16.93%,  \n",
      "\n",
      "[116] => 428 ::: 29.11%,   27.71%,   0.65%,   0.00%,   -0.98%,   -19.45%,   -20.02%,  \n",
      "\n"
     ]
    }
   ],
   "source": [
    "print('STXS\\t Nominal   DD       DN        ND        NN        NU        UN        UU')\n",
    "for stxs, nom_int in zip(enumerate(stxs_bins), int_nominal):\n",
    "    k = stxs[0]; stxs_bin = stxs[1]\n",
    "    print('[{}] => {} :::'.format(int(stxs_bin), nom_int), end='')\n",
    "    for i in range(9):\n",
    "        if (i==2) | (i==6):\n",
    "            continue\n",
    "        norm_stxs = (int_scale[i][k] - nom_int)/nom_int * 1e2\n",
    "        print(' {0:.2f}%,  '.format(norm_stxs), end='')\n",
    "    print('\\n')"
   ]
  },
  {
   "cell_type": "markdown",
   "metadata": {},
   "source": [
    "## \"Scale Factors\": ratio between nominal and scaled variations"
   ]
  },
  {
   "cell_type": "code",
   "execution_count": 100,
   "metadata": {},
   "outputs": [
    {
     "name": "stdout",
     "output_type": "stream",
     "text": [
      "STXS\t Nominal\t DD\t DN\t ND\t NN\t NU\t UN\t UU\n",
      "[101] => ::: SF\t 0.71, \t 0.74, \t 0.95, \t 1.00, \t 1.05, \t 1.31, \t 1.37, \t\n",
      "\n",
      "[102] => ::: SF\t 0.67, \t 0.74, \t 0.92, \t 1.00, \t 1.08, \t 1.32, \t 1.43, \t\n",
      "\n",
      "[103] => ::: SF\t 0.64, \t 0.73, \t 0.88, \t 1.00, \t 1.13, \t 1.33, \t 1.50, \t\n",
      "\n",
      "[104] => ::: SF\t 0.62, \t 0.73, \t 0.85, \t 1.00, \t 1.16, \t 1.33, \t 1.55, \t\n",
      "\n",
      "[105] => ::: SF\t 0.88, \t 0.85, \t 1.04, \t 1.00, \t 0.97, \t 1.17, \t 1.13, \t\n",
      "\n",
      "[106] => ::: SF\t 0.87, \t 0.84, \t 1.04, \t 1.00, \t 0.97, \t 1.17, \t 1.13, \t\n",
      "\n",
      "[107] => ::: SF\t 0.85, \t 0.83, \t 1.04, \t 1.00, \t 0.97, \t 1.19, \t 1.15, \t\n",
      "\n",
      "[108] => ::: SF\t 0.82, \t 0.80, \t 1.03, \t 1.00, \t 0.98, \t 1.22, \t 1.19, \t\n",
      "\n",
      "[109] => ::: SF\t 0.75, \t 0.76, \t 0.99, \t 1.00, \t 1.01, \t 1.27, \t 1.29, \t\n",
      "\n",
      "[110] => ::: SF\t 0.84, \t 0.82, \t 1.03, \t 1.00, \t 0.98, \t 1.20, \t 1.17, \t\n",
      "\n",
      "[111] => ::: SF\t 0.81, \t 0.80, \t 1.02, \t 1.00, \t 0.99, \t 1.23, \t 1.21, \t\n",
      "\n",
      "[112] => ::: SF\t 0.76, \t 0.77, \t 0.99, \t 1.00, \t 1.01, \t 1.27, \t 1.28, \t\n",
      "\n",
      "[113] => ::: SF\t 0.80, \t 0.79, \t 1.02, \t 1.00, \t 0.99, \t 1.23, \t 1.22, \t\n",
      "\n",
      "[114] => ::: SF\t 0.78, \t 0.78, \t 1.00, \t 1.00, \t 1.00, \t 1.25, \t 1.25, \t\n",
      "\n",
      "[115] => ::: SF\t 0.81, \t 0.79, \t 1.02, \t 1.00, \t 0.98, \t 1.23, \t 1.20, \t\n",
      "\n",
      "[116] => ::: SF\t 0.77, \t 0.78, \t 0.99, \t 1.00, \t 1.01, \t 1.24, \t 1.25, \t\n",
      "\n"
     ]
    }
   ],
   "source": [
    "print('STXS\\t Nominal\\t DD\\t DN\\t ND\\t NN\\t NU\\t UN\\t UU')\n",
    "for stxs, nom_int in zip(enumerate(stxs_bins), int_nominal):\n",
    "    k = stxs[0]; stxs_bin = stxs[1]\n",
    "    print('[{}] => ::: SF\\t'.format(int(stxs_bin)), end='')\n",
    "    for i in range(9):\n",
    "        if (i==2) | (i==6):\n",
    "            continue\n",
    "        norm_stxs = nom_int/(int_scale[i][k])\n",
    "        print(' {0:.2f}, \\t'.format(norm_stxs), end='')\n",
    "    print('\\n')"
   ]
  },
  {
   "cell_type": "markdown",
   "metadata": {},
   "source": [
    "## Saving to file and plotting"
   ]
  },
  {
   "cell_type": "markdown",
   "metadata": {},
   "source": [
    "We create `integrals` dictionary to store the information about the STXS yields corresponding to the different scale variations. We use this value later on to store the yields and the relative variations to files. In integrals we have:\n",
    "```\n",
    " integrals = { 0: {101: yield_101, 102: yield_102, ecc}\n",
    "               ...\n",
    "               8: {101: yield_101, 102: yield_102, ecc}\n",
    "             }\n",
    "```"
   ]
  },
  {
   "cell_type": "code",
   "execution_count": 101,
   "metadata": {},
   "outputs": [],
   "source": [
    "integrals = {i: {int(k): [] for k in stxs_bins} for i in range(9) if ((i!= 2) & (i!= 6))}\n",
    "for stxs, nom_int in zip(enumerate(stxs_bins), int_nominal):\n",
    "    k = stxs[0]; stxs_bin = int(stxs[1])\n",
    "    for i in range(9):\n",
    "        if (i==2) | (i==6):\n",
    "            continue\n",
    "        int_varied = int_scale[i][k]\n",
    "        integrals[i][stxs_bin] = (int_varied)"
   ]
  },
  {
   "cell_type": "code",
   "execution_count": 102,
   "metadata": {},
   "outputs": [],
   "source": [
    "yields = open(\"Yields_1p2.txt\",\"w+\")\n",
    "yields.write('STXS\\t DD \\t DN \\t ND \\t NN \\t NU \\t UN \\t UU')\n",
    "yields.write('\\n')\n",
    "\n",
    "for stxs, nom_int in zip(enumerate(stxs_bins), int_nominal):\n",
    "    k = stxs[0]; stxs_bin = int(stxs[1])\n",
    "    yields.write('{} \\t'.format(int(stxs_bin)))\n",
    "    for i in range(9):\n",
    "        if (i==2) | (i==6):\n",
    "            continue\n",
    "        yields.write('\\t{0:.2f},\\t ' .format(integrals[i][stxs_bin]))\n",
    "    yields.write('\\n')\n",
    "yields.close()"
   ]
  },
  {
   "cell_type": "code",
   "execution_count": 103,
   "metadata": {},
   "outputs": [],
   "source": [
    "normalization = open(\"Normalization_1p2.txt\",\"w+\")\n",
    "normalization.write('STXS\\t DD \\t DN \\t ND \\t NN \\t NU \\t UN \\t UU')\n",
    "normalization.write('\\n')\n",
    "for stxs, nom_int in zip(enumerate(stxs_bins), int_nominal):\n",
    "    k = stxs[0]; stxs_bin = int(stxs[1])\n",
    "    normalization.write('{} \\t'.format(int(stxs_bin)))\n",
    "    for i in range(9):\n",
    "        if (i==2) | (i==6):\n",
    "            continue\n",
    "        norm_int = nom_int/integrals[i][stxs_bin]\n",
    "        normalization.write('\\t{0:.2f},\\t ' .format(norm_int))\n",
    "    normalization.write('\\n')\n",
    "normalization.close()"
   ]
  },
  {
   "cell_type": "markdown",
   "metadata": {},
   "source": [
    "Create histograms with the STXS bins yields corresponding to each $\\mu_R,\\, \\mu_F$ variations. We save the ratio w.r.t. the nominal values and we plot them in a nice way below."
   ]
  },
  {
   "cell_type": "code",
   "execution_count": 104,
   "metadata": {},
   "outputs": [],
   "source": [
    "histos = {}\n",
    "for i in range(9):\n",
    "    if (i==2) | (i==6):\n",
    "        continue    \n",
    "    values = []\n",
    "    for stxs, nom_int in zip(enumerate(stxs_bins), int_nominal):\n",
    "        k = stxs[0]; stxs_bin = int(stxs[1])\n",
    "        norm_int = nom_int/integrals[i][stxs_bin]\n",
    "        values.append(norm_int)\n",
    "    histos[i] = values"
   ]
  },
  {
   "cell_type": "code",
   "execution_count": 105,
   "metadata": {},
   "outputs": [],
   "source": [
    "scale_var = {\n",
    "    0: r'$\\mu_r$ = 0.5, $\\mu_f$ = 0.5',\n",
    "    1: r'$\\mu_r$ = 0.5, $\\mu_f$ = 1.0',\n",
    "    3: r'$\\mu_r$ = 1.0, $\\mu_f$ = 0.5',\n",
    "    4: r'$\\mu_r$ = 1.0, $\\mu_f$ = 1.0',\n",
    "    5: r'$\\mu_r$ = 1.0, $\\mu_f$ = 2.0',\n",
    "    7: r'$\\mu_r$ = 2.0, $\\mu_f$ = 1.0',\n",
    "    8: r'$\\mu_r$ = 2.0, $\\mu_f$ = 2.0'\n",
    "}\n",
    "\n",
    "stxs_binName = {\n",
    "                100: 'GG2H_FWDH',\n",
    "                101: 'GG2H_PTH_200_300',\n",
    "                102: 'GG2H_PTH_300_450',\n",
    "                103: 'GG2H_PTH_450_650',\n",
    "                104: 'GG2H_PTH_GT650',\n",
    "                105: 'GG2H_0J_PTH_0_10', \n",
    "                106: 'GG2H_0J_PTH_GT10', \n",
    "                107: 'GG2H_1J_PTH_0_60',\n",
    "                108: 'GG2H_1J_PTH_60_120',\n",
    "                109: 'GG2H_1J_PTH_120_200',\n",
    "                110: 'GG2H_GE2J_MJJ_0_350_PTH_0_60',\n",
    "                111: 'GG2H_GE2J_MJJ_0_350_PTH_60_120',\n",
    "                112: 'GG2H_GE2J_MJJ_0_350_PTH_120_200',\n",
    "                113: 'GG2H_GE2J_MJJ_350_700_PTH_0_200_PTHJJ_0_25',\n",
    "                114: 'GG2H_GE2J_MJJ_350_700_PTH_0_200_PTHJJ_GT25',\n",
    "                115: 'GG2H_GE2J_MJJ_GT700_PTH_0_200_PTHJJ_0_25',\n",
    "                116: 'GG2H_GE2J_MJJ_GT700_PTH_0_200_PTHJJ_GT25'\n",
    "               }"
   ]
  },
  {
   "cell_type": "code",
   "execution_count": 106,
   "metadata": {},
   "outputs": [
    {
     "data": {
      "image/png": "[encoded data removed]",
      "text/plain": [
       "<Figure size 900x750 with 1 Axes>"
      ]
     },
     "metadata": {
      "needs_background": "light"
     },
     "output_type": "display_data"
    }
   ],
   "source": [
    "plt.figure(figsize = (6,5))\n",
    "cmap = plt.cm.coolwarm(np.linspace(0, 1., 9.))\n",
    "for i in range(9):\n",
    "    if (i==2) | (i==6):\n",
    "        continue\n",
    "    plt.step(stxs_bins, histos[i], where = 'mid', label = scale_var[i], color = cmap[i], linewidth = 1.5)\n",
    "    plt.grid(b = None)\n",
    "plt.legend(bbox_to_anchor=(1., 0.9))\n",
    "plt.xticks(stxs_bins, rotation = 45)\n",
    "plt.tick_params(which='minor', length=0)\n",
    "plt.ylim(0.3, 1.8)\n",
    "plt.title('STXS 1.2 bins uncertainties')\n",
    "plt.xlabel('STXS 1.2 Bin', ha='right', x=1.0, fontsize = 12)\n",
    "plt.ylabel(r'$\\sigma_{nom}/\\sigma_{var}$', ha='right', y=1.0, fontsize = 12)\n",
    "# plt.savefig('STXS1p2_Unc.pdf', bbox_inches='tight')"
   ]
  },
  {
   "cell_type": "code",
   "execution_count": null,
   "metadata": {},
   "outputs": [],
   "source": []
  }
 ],
 "metadata": {
  "kernelspec": {
   "display_name": "Python 3",
   "language": "python",
   "name": "python3"
  },
  "language_info": {
   "codemirror_mode": {
    "name": "ipython",
    "version": 3
   },
   "file_extension": ".py",
   "mimetype": "text/x-python",
   "name": "python",
   "nbconvert_exporter": "python",
   "pygments_lexer": "ipython3",
   "version": "3.7.0"
  }
 },
 "nbformat": 4,
 "nbformat_minor": 2
}
