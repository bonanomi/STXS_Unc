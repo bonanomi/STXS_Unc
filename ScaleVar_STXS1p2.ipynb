{
 "cells": [
  {
   "cell_type": "markdown",
   "metadata": {},
   "source": [
    "# STXS 1.2 Scale Variations Uncertainties"
   ]
  },
  {
   "cell_type": "markdown",
   "metadata": {},
   "source": [
    "See [the notebook about STXS 1.2](https://github.com/bonanomi/STXS_Unc/blob/master/ScaleVar_STXS1p2.ipynb) for more details. Here we use a `NanoAOD` HZZ4L sample to calculate $\\mu_R$ and $\\mu_F$ scale variations of the yields in each STXS 1.1 bin. The final uncertainty assigned corresponds to the maxiumum relative variation w.r.t. the nominal yield in each bin.\n",
    "\n",
    "The advantage of using `NanoAOD` samples is their flexibility and the fact that they come directly with Rivet classification implemented. For STXS 1.2 we didn't have at disposal any ZZ4L `NanoAOD` sample, hence a ggH ntuple from the HZZ4L analysis group was used."
   ]
  },
  {
   "cell_type": "code",
   "execution_count": 1,
   "metadata": {},
   "outputs": [],
   "source": [
    "import matplotlib.pyplot as plt\n",
    "import matplotlib.colors\n",
    "import numpy as np\n",
    "import pandas as pd\n",
    "import uproot"
   ]
  },
  {
   "cell_type": "code",
   "execution_count": 2,
   "metadata": {},
   "outputs": [
    {
     "data": {
      "text/plain": [
       "0"
      ]
     },
     "execution_count": 2,
     "metadata": {},
     "output_type": "execute_result"
    }
   ],
   "source": [
    "## Not needed on lxplus\n",
    "import os\n",
    "os.system('/opt/exp_soft/cms/t3/eos-login -init -username mbonanom')"
   ]
  },
  {
   "cell_type": "code",
   "execution_count": 3,
   "metadata": {},
   "outputs": [],
   "source": [
    "url = 'https://gist.githubusercontent.com/bonanomi/d14780f7562cb2a22fdd753a9d4459d4/raw/b3c6d77505b90eb38a886c19a31725df8ceb908f/MyMPLStyle'\n",
    "plt.style.use(url)"
   ]
  },
  {
   "cell_type": "code",
   "execution_count": 4,
   "metadata": {},
   "outputs": [],
   "source": [
    "tree = 'Events'\n",
    "fname = '/eos/user/m/mbonanom/nanoAOD_GluGluHToZZTo4L_powheg2NNLOPS_M125.root'\n",
    "branches = ['HTXS_stage1_2_cat_pTjet30GeV', 'LHEScaleWeight']"
   ]
  },
  {
   "cell_type": "code",
   "execution_count": 5,
   "metadata": {},
   "outputs": [],
   "source": [
    "evt = uproot.open(fname)[tree]\n",
    "evts = evt.arrays(branches)"
   ]
  },
  {
   "cell_type": "code",
   "execution_count": 6,
   "metadata": {},
   "outputs": [],
   "source": [
    "binning = np.linspace(0, 500, 500)"
   ]
  },
  {
   "cell_type": "code",
   "execution_count": 7,
   "metadata": {},
   "outputs": [],
   "source": [
    "h_stxs = np.histogram(evts[b'HTXS_stage1_2_cat_pTjet30GeV'], binning)"
   ]
  },
  {
   "cell_type": "code",
   "execution_count": 8,
   "metadata": {},
   "outputs": [],
   "source": [
    "d = {}\n",
    "for i in range(9):\n",
    "    d[i] = [j[i] for j in evts[b'LHEScaleWeight']]"
   ]
  },
  {
   "cell_type": "code",
   "execution_count": 9,
   "metadata": {},
   "outputs": [
    {
     "name": "stdout",
     "output_type": "stream",
     "text": [
      "CPU times: user 684 ms, sys: 50.5 ms, total: 735 ms\n",
      "Wall time: 733 ms\n"
     ]
    }
   ],
   "source": [
    "%%time\n",
    "d_scales = {}\n",
    "for i in range(9):\n",
    "    d_scales[i] = np.histogram(evts[b'HTXS_stage1_2_cat_pTjet30GeV'], binning, weights=d[i])"
   ]
  },
  {
   "cell_type": "code",
   "execution_count": 10,
   "metadata": {},
   "outputs": [],
   "source": [
    "int_nominal = [i for i in h_stxs[0] if i!=0]"
   ]
  },
  {
   "cell_type": "code",
   "execution_count": 11,
   "metadata": {},
   "outputs": [
    {
     "name": "stdout",
     "output_type": "stream",
     "text": [
      "CPU times: user 2.46 ms, sys: 0 ns, total: 2.46 ms\n",
      "Wall time: 2.46 ms\n"
     ]
    }
   ],
   "source": [
    "%%time\n",
    "int_scale = {}\n",
    "for i in range(9):\n",
    "    if (i==2) | (i==6):\n",
    "        continue\n",
    "    int_scale[i] = [j for j, k in zip(d_scales[i][0], h_stxs[0]) if k != 0]"
   ]
  },
  {
   "cell_type": "code",
   "execution_count": 12,
   "metadata": {},
   "outputs": [],
   "source": [
    "bins_c =  0.5*(h_stxs[1][1:]+h_stxs[1][:-1])"
   ]
  },
  {
   "cell_type": "code",
   "execution_count": 13,
   "metadata": {},
   "outputs": [],
   "source": [
    "stxs_bins = [round(j, 0) for i, j in zip(h_stxs[0], bins_c) if i!=0]"
   ]
  },
  {
   "cell_type": "code",
   "execution_count": 14,
   "metadata": {},
   "outputs": [
    {
     "name": "stdout",
     "output_type": "stream",
     "text": [
      "[100] => 50643 ::: 86460.02,  86199.33,  50279.04,  50643.00,  50244.25,  40326.19,  40156.08, \n",
      "\n",
      "[101] => 6945 ::: 8641.23,  8458.84,  7155.85,  6945.00,  6770.81,  5759.45,  5578.52, \n",
      "\n",
      "[102] => 1706 ::: 2100.80,  2045.54,  1774.50,  1706.00,  1648.59,  1425.75,  1366.12, \n",
      "\n",
      "[103] => 247 ::: 298.84,  291.20,  258.26,  247.00,  237.27,  208.90,  198.41, \n",
      "\n",
      "[104] => 31 ::: 37.43,  36.34,  32.69,  31.00,  29.48,  26.36,  24.74, \n",
      "\n",
      "[105] => 67231 ::: 118155.49,  139054.38,  55387.01,  67231.00,  74399.33,  52310.32,  58811.20, \n",
      "\n",
      "[106] => 200757 ::: 292391.88,  299904.19,  188899.20,  200757.00,  208916.97,  166216.28,  174309.62, \n",
      "\n",
      "[107] => 66458 ::: 86479.88,  87627.44,  64561.94,  66458.00,  67897.75,  56622.25,  57937.41, \n",
      "\n",
      "[108] => 52621 ::: 66629.19,  67027.69,  52206.34,  52621.00,  52941.81,  44140.16,  44333.53, \n",
      "\n",
      "[109] => 10493 ::: 13494.50,  13359.56,  10638.84,  10493.00,  10371.06,  8600.94,  8468.03, \n",
      "\n",
      "[110] => 14219 ::: 18559.75,  18789.38,  13893.56,  14219.00,  14463.25,  12024.25,  12239.31, \n",
      "\n",
      "[111] => 23014 ::: 29182.38,  29254.00,  22988.56,  23014.00,  23027.06,  19152.66,  19114.91, \n",
      "\n",
      "[112] => 13705 ::: 17505.50,  17297.69,  13938.22,  13705.00,  13510.75,  11250.81,  11042.91, \n",
      "\n",
      "[113] => 2743 ::: 3496.81,  3505.25,  2733.78,  2743.00,  2748.31,  2295.41,  2295.31, \n",
      "\n",
      "[114] => 5423 ::: 6913.50,  6890.12,  5458.22,  5423.00,  5392.12,  4510.47,  4469.81, \n",
      "\n",
      "[115] => 1126 ::: 1478.25,  1460.31,  1139.44,  1126.00,  1114.44,  936.66,  924.97, \n",
      "\n",
      "[116] => 2318 ::: 2960.81,  2923.12,  2363.22,  2318.00,  2280.75,  1932.72,  1893.44, \n",
      "\n"
     ]
    }
   ],
   "source": [
    "for stxs, nom_int in zip(enumerate(stxs_bins), int_nominal):\n",
    "    k = stxs[0]; stxs_bin = stxs[1]\n",
    "    print('[{}] => {} :::'.format(int(stxs_bin), nom_int), end='')\n",
    "    for i in range(9):\n",
    "        if (i==2) | (i==6):\n",
    "            continue\n",
    "        print(' {0:.2f}, '.format(int_scale[i][k]), end='')\n",
    "    print('\\n')"
   ]
  },
  {
   "cell_type": "code",
   "execution_count": 15,
   "metadata": {},
   "outputs": [
    {
     "name": "stdout",
     "output_type": "stream",
     "text": [
      "[100] => 50643 ::: 70.72%,  70.21%,  -0.72%,  0.00%,  -0.79%,  -20.37%,  -20.71%, \n",
      "\n",
      "[101] => 6945 ::: 24.42%,  21.80%,  3.04%,  0.00%,  -2.51%,  -17.07%,  -19.68%, \n",
      "\n",
      "[102] => 1706 ::: 23.14%,  19.90%,  4.02%,  0.00%,  -3.37%,  -16.43%,  -19.92%, \n",
      "\n",
      "[103] => 247 ::: 20.99%,  17.89%,  4.56%,  0.00%,  -3.94%,  -15.43%,  -19.67%, \n",
      "\n",
      "[104] => 31 ::: 20.74%,  17.24%,  5.46%,  0.00%,  -4.90%,  -14.96%,  -20.20%, \n",
      "\n",
      "[105] => 67231 ::: 75.75%,  106.83%,  -17.62%,  0.00%,  10.66%,  -22.19%,  -12.52%, \n",
      "\n",
      "[106] => 200757 ::: 45.64%,  49.39%,  -5.91%,  0.00%,  4.06%,  -17.21%,  -13.17%, \n",
      "\n",
      "[107] => 66458 ::: 30.13%,  31.85%,  -2.85%,  0.00%,  2.17%,  -14.80%,  -12.82%, \n",
      "\n",
      "[108] => 52621 ::: 26.62%,  27.38%,  -0.79%,  0.00%,  0.61%,  -16.12%,  -15.75%, \n",
      "\n",
      "[109] => 10493 ::: 28.60%,  27.32%,  1.39%,  0.00%,  -1.16%,  -18.03%,  -19.30%, \n",
      "\n",
      "[110] => 14219 ::: 30.53%,  32.14%,  -2.29%,  0.00%,  1.72%,  -15.44%,  -13.92%, \n",
      "\n",
      "[111] => 23014 ::: 26.80%,  27.11%,  -0.11%,  0.00%,  0.06%,  -16.78%,  -16.94%, \n",
      "\n",
      "[112] => 13705 ::: 27.73%,  26.21%,  1.70%,  0.00%,  -1.42%,  -17.91%,  -19.42%, \n",
      "\n",
      "[113] => 2743 ::: 27.48%,  27.79%,  -0.34%,  0.00%,  0.19%,  -16.32%,  -16.32%, \n",
      "\n",
      "[114] => 5423 ::: 27.48%,  27.05%,  0.65%,  0.00%,  -0.57%,  -16.83%,  -17.58%, \n",
      "\n",
      "[115] => 1126 ::: 31.28%,  29.69%,  1.19%,  0.00%,  -1.03%,  -16.82%,  -17.85%, \n",
      "\n",
      "[116] => 2318 ::: 27.73%,  26.11%,  1.95%,  0.00%,  -1.61%,  -16.62%,  -18.32%, \n",
      "\n"
     ]
    }
   ],
   "source": [
    "for stxs, nom_int in zip(enumerate(stxs_bins), int_nominal):\n",
    "    k = stxs[0]; stxs_bin = stxs[1]\n",
    "    print('[{}] => {} :::'.format(int(stxs_bin), nom_int), end='')\n",
    "    for i in range(9):\n",
    "        if (i==2) | (i==6):\n",
    "            continue\n",
    "        norm_stxs = (int_scale[i][k] - nom_int)/nom_int * 1e2\n",
    "        print(' {0:.2f}%, '.format(norm_stxs), end='')\n",
    "    print('\\n')"
   ]
  },
  {
   "cell_type": "code",
   "execution_count": 16,
   "metadata": {},
   "outputs": [
    {
     "name": "stdout",
     "output_type": "stream",
     "text": [
      "[100] => ::: 0.5857,  0.5875,  1.0072,  1.0000,  1.0079,  1.2558,  1.2612, \n",
      "\n",
      "[101] => ::: 0.8037,  0.8210,  0.9705,  1.0000,  1.0257,  1.2058,  1.2450, \n",
      "\n",
      "[102] => ::: 0.8121,  0.8340,  0.9614,  1.0000,  1.0348,  1.1966,  1.2488, \n",
      "\n",
      "[103] => ::: 0.8265,  0.8482,  0.9564,  1.0000,  1.0410,  1.1824,  1.2449, \n",
      "\n",
      "[104] => ::: 0.8282,  0.8530,  0.9483,  1.0000,  1.0515,  1.1759,  1.2531, \n",
      "\n",
      "[105] => ::: 0.5690,  0.4835,  1.2138,  1.0000,  0.9037,  1.2852,  1.1432, \n",
      "\n",
      "[106] => ::: 0.6866,  0.6694,  1.0628,  1.0000,  0.9609,  1.2078,  1.1517, \n",
      "\n",
      "[107] => ::: 0.7685,  0.7584,  1.0294,  1.0000,  0.9788,  1.1737,  1.1471, \n",
      "\n",
      "[108] => ::: 0.7898,  0.7851,  1.0079,  1.0000,  0.9939,  1.1921,  1.1869, \n",
      "\n",
      "[109] => ::: 0.7776,  0.7854,  0.9863,  1.0000,  1.0118,  1.2200,  1.2391, \n",
      "\n",
      "[110] => ::: 0.7661,  0.7568,  1.0234,  1.0000,  0.9831,  1.1825,  1.1617, \n",
      "\n",
      "[111] => ::: 0.7886,  0.7867,  1.0011,  1.0000,  0.9994,  1.2016,  1.2040, \n",
      "\n",
      "[112] => ::: 0.7829,  0.7923,  0.9833,  1.0000,  1.0144,  1.2181,  1.2411, \n",
      "\n",
      "[113] => ::: 0.7844,  0.7825,  1.0034,  1.0000,  0.9981,  1.1950,  1.1950, \n",
      "\n",
      "[114] => ::: 0.7844,  0.7871,  0.9935,  1.0000,  1.0057,  1.2023,  1.2132, \n",
      "\n",
      "[115] => ::: 0.7617,  0.7711,  0.9882,  1.0000,  1.0104,  1.2021,  1.2173, \n",
      "\n",
      "[116] => ::: 0.7829,  0.7930,  0.9809,  1.0000,  1.0163,  1.1993,  1.2242, \n",
      "\n"
     ]
    }
   ],
   "source": [
    "for stxs, nom_int in zip(enumerate(stxs_bins), int_nominal):\n",
    "    k = stxs[0]; stxs_bin = stxs[1]\n",
    "    print('[{}] => :::'.format(int(stxs_bin)), end='')\n",
    "    for i in range(9):\n",
    "        if (i==2) | (i==6):\n",
    "            continue\n",
    "        norm_stxs = nom_int/(int_scale[i][k])\n",
    "        print(' {0:.4f}, '.format(norm_stxs), end='')\n",
    "    print('\\n')"
   ]
  },
  {
   "cell_type": "code",
   "execution_count": 17,
   "metadata": {},
   "outputs": [],
   "source": [
    "integrals = {i: {int(k): [] for k in stxs_bins} for i in range(9) if ((i!= 2) & (i!= 6))}\n",
    "for stxs, nom_int in zip(enumerate(stxs_bins), int_nominal):\n",
    "    k = stxs[0]; stxs_bin = int(stxs[1])\n",
    "    for i in range(9):\n",
    "        if (i==2) | (i==6):\n",
    "            continue\n",
    "        int_varied = int_scale[i][k]\n",
    "        integrals[i][stxs_bin] = (int_varied)"
   ]
  },
  {
   "cell_type": "code",
   "execution_count": 18,
   "metadata": {},
   "outputs": [],
   "source": [
    "# for i in range(9):\n",
    "#     if (i==2) | (i==6):\n",
    "#         continue\n",
    "\n",
    "#     integrals[i][104] += integrals[i][105]\n",
    "#     integrals[i][104] += integrals[i][106]\n",
    "#     integrals[i][104] += integrals[i][107]\n",
    "    \n",
    "#     integrals[i][108] += integrals[i][109]\n",
    "#     integrals[i][108] += integrals[i][110]\n",
    "#     integrals[i][108] += integrals[i][111]\n",
    "#     integrals[i][108] += integrals[i][101]\n",
    "#     integrals[i][108] += integrals[i][102]"
   ]
  },
  {
   "cell_type": "code",
   "execution_count": 19,
   "metadata": {},
   "outputs": [],
   "source": [
    "yields = open(\"Yields_1p2.txt\",\"w+\")\n",
    "yields.write('STXS\\t\\t DD \\t\\t DN \\t\\t ND \\t\\t NN \\t\\t NU \\t\\t UN \\t\\t UU')\n",
    "yields.write('\\n')\n",
    "\n",
    "for stxs, nom_int in zip(enumerate(stxs_bins), int_nominal):\n",
    "    k = stxs[0]; stxs_bin = int(stxs[1])\n",
    "    yields.write('{} \\t'.format(int(stxs_bin)))\n",
    "    for i in range(9):\n",
    "        if (i==2) | (i==6):\n",
    "            continue\n",
    "        yields.write('\\t{0:.2f},\\t ' .format(integrals[i][stxs_bin]))\n",
    "    yields.write('\\n')\n",
    "yields.close()"
   ]
  },
  {
   "cell_type": "code",
   "execution_count": 20,
   "metadata": {},
   "outputs": [],
   "source": [
    "normalization = open(\"Normalization_1p2.txt\",\"w+\")\n",
    "normalization.write('STXS\\t\\t DD \\t\\t DN \\t\\t ND \\t\\t NN \\t\\t NU \\t\\t UN \\t\\t UU')\n",
    "normalization.write('\\n')\n",
    "for stxs, nom_int in zip(enumerate(stxs_bins), int_nominal):\n",
    "    k = stxs[0]; stxs_bin = int(stxs[1])\n",
    "    normalization.write('{} \\t'.format(int(stxs_bin)))\n",
    "    for i in range(9):\n",
    "        if (i==2) | (i==6):\n",
    "            continue\n",
    "        norm_int = nom_int/integrals[i][stxs_bin]\n",
    "        normalization.write('\\t{0:.2f},\\t ' .format(norm_int))\n",
    "    normalization.write('\\n')\n",
    "normalization.close()"
   ]
  },
  {
   "cell_type": "code",
   "execution_count": 21,
   "metadata": {},
   "outputs": [],
   "source": [
    "histos = {}\n",
    "for i in range(9):\n",
    "    if (i==2) | (i==6):\n",
    "        continue    \n",
    "    values = []\n",
    "    for stxs, nom_int in zip(enumerate(stxs_bins), int_nominal):\n",
    "        k = stxs[0]; stxs_bin = int(stxs[1])\n",
    "        norm_int = nom_int/integrals[i][stxs_bin]\n",
    "        values.append(norm_int)\n",
    "    histos[i] = values"
   ]
  },
  {
   "cell_type": "code",
   "execution_count": 22,
   "metadata": {},
   "outputs": [],
   "source": [
    "scale_var = {\n",
    "    0: r'$\\mu_r$ = 0.5, $\\mu_f$ = 0.5',\n",
    "    1: r'$\\mu_r$ = 0.5, $\\mu_f$ = 1.0',\n",
    "    3: r'$\\mu_r$ = 1.0, $\\mu_f$ = 0.5',\n",
    "    4: r'$\\mu_r$ = 1.0, $\\mu_f$ = 1.0',\n",
    "    5: r'$\\mu_r$ = 1.0, $\\mu_f$ = 2.0',\n",
    "    7: r'$\\mu_r$ = 2.0, $\\mu_f$ = 1.0',\n",
    "    8: r'$\\mu_r$ = 2.0, $\\mu_f$ = 2.0'\n",
    "}"
   ]
  },
  {
   "cell_type": "code",
   "execution_count": 25,
   "metadata": {},
   "outputs": [
    {
     "data": {
      "image/png": "[encoded data removed]",
      "text/plain": [
       "<Figure size 900x750 with 1 Axes>"
      ]
     },
     "metadata": {
      "needs_background": "light"
     },
     "output_type": "display_data"
    }
   ],
   "source": [
    "plt.figure(figsize = (6,5))\n",
    "cmap = plt.cm.coolwarm(np.linspace(0, 1., 9.))\n",
    "for i in range(9):\n",
    "    if (i==2) | (i==6):\n",
    "        continue\n",
    "    plt.step(stxs_bins, histos[i], where = 'mid', label = scale_var[i], color = cmap[i], linewidth = 1.5)\n",
    "    plt.grid(b = None)\n",
    "plt.legend(bbox_to_anchor=(1., 0.9))\n",
    "plt.xticks(stxs_bins, rotation = 45)\n",
    "plt.tick_params(which='minor', length=0)\n",
    "plt.ylim(0.5, 1.5)\n",
    "plt.title('STXS 1.2 bins uncertainties')\n",
    "plt.xlabel('STXS 1.2 Bin', ha='right', x=1.0, fontsize = 12)\n",
    "plt.ylabel(r'$\\sigma_{nom}/\\sigma_{var}$', ha='right', y=1.0, fontsize = 12)\n",
    "# plt.savefig('STXS1p2_Unc.pdf', bbox_inches='tight')"
   ]
  },
  {
   "cell_type": "code",
   "execution_count": null,
   "metadata": {},
   "outputs": [],
   "source": []
  }
 ],
 "metadata": {
  "kernelspec": {
   "display_name": "Python 3",
   "language": "python",
   "name": "python3"
  },
  "language_info": {
   "codemirror_mode": {
    "name": "ipython",
    "version": 3
   },
   "file_extension": ".py",
   "mimetype": "text/x-python",
   "name": "python",
   "nbconvert_exporter": "python",
   "pygments_lexer": "ipython3",
   "version": "3.7.0"
  }
 },
 "nbformat": 4,
 "nbformat_minor": 2
}
